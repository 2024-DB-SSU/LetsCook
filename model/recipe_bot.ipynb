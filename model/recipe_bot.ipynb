{
 "cells": [
  {
   "cell_type": "code",
   "execution_count": 16,
   "metadata": {},
   "outputs": [],
   "source": [
    "from openai import OpenAI\n",
    "from dotenv import load_dotenv\n",
    "import os\n",
    "import json\n",
    "import time"
   ]
  },
  {
   "cell_type": "code",
   "execution_count": 5,
   "metadata": {},
   "outputs": [],
   "source": [
    "def show_json(obj):\n",
    "    display(json.loads(obj.model_dump_json()))"
   ]
  },
  {
   "cell_type": "code",
   "execution_count": 7,
   "metadata": {},
   "outputs": [
    {
     "data": {
      "text/plain": [
       "True"
      ]
     },
     "execution_count": 7,
     "metadata": {},
     "output_type": "execute_result"
    }
   ],
   "source": [
    "load_dotenv()"
   ]
  },
  {
   "cell_type": "code",
   "execution_count": 8,
   "metadata": {},
   "outputs": [],
   "source": [
    "api_key = os.environ.get(\"OpenAI_API_KEY\")"
   ]
  },
  {
   "cell_type": "code",
   "execution_count": 78,
   "metadata": {},
   "outputs": [
    {
     "data": {
      "text/plain": [
       "{'id': 'asst_bCEr907TRU59ITBx2Oof8Dse',\n",
       " 'created_at': 1731846566,\n",
       " 'description': None,\n",
       " 'instructions': \"\\n        You are a culinary assistant specializing in providing tailored recipes. Based on the given inputs:\\n\\n        Selected ingredients: A list of ingredients chosen by the user.\\n        Preferred cooking style: A brief description of the desired flavor or type of dish (e.g., spicy, sweet, or savory).\\n\\n        Your task is to generate three creative and practical recipes using the provided ingredients while considering the user's cooking preferences. Each recipe should include:\\n\\n        - A title describing the dish.\\n        - A brief summary of the dish.\\n        - A list of ingredients (including the selected ones).\\n        - Step-by-step cooking instructions.\\n\\n        If the user does not specify a cooking style, default to a general, versatile approach. Aim to inspire and delight the user with your suggestions.\\n    \\n    \\n    \",\n",
       " 'metadata': {},\n",
       " 'model': 'gpt-4o-mini',\n",
       " 'name': 'Recipe Bot',\n",
       " 'object': 'assistant',\n",
       " 'tools': [],\n",
       " 'response_format': 'auto',\n",
       " 'temperature': 1.0,\n",
       " 'tool_resources': {'code_interpreter': None, 'file_search': None},\n",
       " 'top_p': 1.0}"
      ]
     },
     "metadata": {},
     "output_type": "display_data"
    }
   ],
   "source": [
    "client = OpenAI(api_key=api_key)\n",
    "assistant = client.beta.assistants.create(\n",
    "    name=\"Recipe Bot\",\n",
    "    instructions=\"\"\"\n",
    "        You are a culinary assistant specializing in providing tailored recipes. Based on the given inputs:\n",
    "\n",
    "        Selected ingredients: A list of ingredients chosen by the user.\n",
    "        Preferred cooking style: A brief description of the desired flavor or type of dish (e.g., spicy, sweet, or savory).\n",
    "\n",
    "        Your task is to generate three creative and practical recipes using the provided ingredients while considering the user's cooking preferences. Each recipe should include:\n",
    "\n",
    "        - A title describing the dish.\n",
    "        - A brief summary of the dish.\n",
    "        - A list of ingredients (including the selected ones).\n",
    "        - Step-by-step cooking instructions.\n",
    "\n",
    "        If the user does not specify a cooking style, default to a general, versatile approach. Aim to inspire and delight the user with your suggestions.\n",
    "    \n",
    "    \n",
    "    \"\"\",\n",
    "    model=\"gpt-4o-mini\"\n",
    ")\n",
    "\n",
    "show_json(assistant)\n"
   ]
  },
  {
   "cell_type": "code",
   "execution_count": 86,
   "metadata": {},
   "outputs": [
    {
     "name": "stdout",
     "output_type": "stream",
     "text": [
      "Assistants ID:\n",
      "asst_bCEr907TRU59ITBx2Oof8Dse\n"
     ]
    }
   ],
   "source": [
    "ASSISTANT_ID = assistant.id\n",
    "print(f\"Assistants ID:\\n{ASSISTANT_ID}\")"
   ]
  },
  {
   "cell_type": "code",
   "execution_count": 50,
   "metadata": {},
   "outputs": [],
   "source": [
    "def submit_message(assistant_id, thread, user_message):\n",
    "    client.beta.threads.messages.create(\n",
    "        thread_id=thread.id,\n",
    "        role=\"user\",\n",
    "        content=user_message\n",
    "    )\n",
    "    \n",
    "    run = client.beta.threads.runs.create(\n",
    "        thread_id=thread.id,\n",
    "        assistant_id=assistant_id\n",
    "    )\n",
    "    return run\n",
    "\n",
    "def wait_on_run(run, thread):\n",
    "    while run.status == \"queued\" or run.status == \"in_progress\":\n",
    "        run = client.beta.threads.runs.retrieve(\n",
    "            thread_id=thread.id,\n",
    "            run_id=run.id\n",
    "        )\n",
    "        time.sleep(0.5)\n",
    "    return run\n",
    "\n",
    "def get_response(thread):\n",
    "    return client.beta.threads.messages.list(thread_id=thread.id, order=\"asc\")\n",
    "\n",
    "def create_thread_and_run(user_input):\n",
    "    thread = client.beta.threads.create()\n",
    "    run = submit_message(ASSISTANT_ID, thread, user_input)\n",
    "    return thread, run\n",
    "\n",
    "def print_message(response):\n",
    "    for res in response:\n",
    "        print(f\"[{res.role.upper()}]\\n{res.content[0].text.value}\\n\")\n",
    "    print(\"-\" * 30)"
   ]
  },
  {
   "cell_type": "code",
   "execution_count": null,
   "metadata": {},
   "outputs": [],
   "source": [
    "user_input = \"양파, 감자, 파스타면, 양송이, 간장, 김치, 대파, 삼겹살, 간장\""
   ]
  },
  {
   "cell_type": "code",
   "execution_count": 84,
   "metadata": {},
   "outputs": [],
   "source": [
    "thread1, run1 = create_thread_and_run(user_input)"
   ]
  },
  {
   "cell_type": "code",
   "execution_count": 85,
   "metadata": {},
   "outputs": [
    {
     "name": "stdout",
     "output_type": "stream",
     "text": [
      "[USER]\n",
      "양파, 감자, 파스타면, 양송이, 간장, 김치, 대파, 삼겹살, 간장\n",
      "\n",
      "[ASSISTANT]\n",
      "### 레시피 1: 삼겹살 감자 파스타 볶음\n",
      "\n",
      "**요약:** 삼겹살과 감자, 파스타면을 간장으로 맛을 낸 볶음 요리입니다. 깊은 풍미와 쫄깃한 식감이 어우러져 식사로 손색이 없습니다.\n",
      "\n",
      "**재료:**\n",
      "- 삼겹살 200g\n",
      "- 감자 2개 (중간 크기)\n",
      "- 파스타면 150g\n",
      "- 양파 1개\n",
      "- 양송이 100g\n",
      "- 대파 1대\n",
      "- 간장 3큰술\n",
      "- 후춧가루 약간\n",
      "- 식용유 2큰술\n",
      "\n",
      "**조리 방법:**\n",
      "1. 감자는 껍질을 벗기고 1cm 크기로 썬 후, 찬물에 담가 전분을 빼줍니다.\n",
      "2. 파스타면은 끓는 물에 8~10분간 삶아준 후, 체에 받쳐 물기를 제거합니다.\n",
      "3. 팬에 식용유를 두르고 중불에서 삼겹살을 넣어 노릇하게 볶아줍니다.\n",
      "4. 삼겹살이 익으면 양파와 대파를 넣고 볶다가, 감자를 추가해 황금빛으로 튀길 때까지 약 5분 볶습니다.\n",
      "5. 양송이를 넣고 2-3분 더 볶다가 간장을 넣어 볶아줍니다.\n",
      "6. 마지막으로 삶은 파스타면을 넣고 고루 섞어 후춧가루로 간을 맞춘 뒤, 불을 끄고 접시에 담아냅니다.\n",
      "\n",
      "---\n",
      "\n",
      "### 레시피 2: 간장 양송이 김치 파스타\n",
      "\n",
      "**요약:** 간장으로 양송이와 김치를 조리하여 독특한 맛을 냈습니다. 파스타와 결합하여 간단하면서도 특별한 한 끼로 즐길 수 있습니다.\n",
      "\n",
      "**재료:**\n",
      "- 파스타면 150g\n",
      "- 양송이 100g\n",
      "- 김치 100g\n",
      "- 양파 1개\n",
      "- 대파 1대\n",
      "- 간장 2큰술\n",
      "- 올리브유 1큰술\n",
      "- 소금, 후춧가루 약간\n",
      "\n",
      "**조리 방법:**\n",
      "1. 파스타면을 끓는 물에서 8~10분 삶아 체에 받쳐두세요.\n",
      "2. 팬에 올리브유를 두르고 chopped 양파와 대파를 중불에서 볶아줍니다.\n",
      "3. 양파가 투명해지면 양송이를 넣고 3분 더 볶습니다.\n",
      "4. 김치를 넣고 간장도 추가해 5분간 더 조리합니다.\n",
      "5. 삶은 파스타면을 넣고 재료와 잘 섞이도록 볶은 후, 소금과 후춧가루로 간을 합니다.\n",
      "6. 그릇에 담아내고 원한다면 통깨를 뿌려 장식하세요.\n",
      "\n",
      "---\n",
      "\n",
      "### 레시피 3: 김치 삼겹살 감자 전골\n",
      "\n",
      "**요약:** 김치와 함께 삼겹살, 감자를 넣어 끓인 전골 요리입니다. 얼큰하고 깊은 맛으로, 술 안주로나 밥 반찬으로 모두 좋습니다.\n",
      "\n",
      "**재료:**\n",
      "- 삼겹살 200g\n",
      "- 감자 2개\n",
      "- 김치 200g\n",
      "- 양파 1개\n",
      "- 양송이 100g\n",
      "- 대파 1대\n",
      "- 간장 3큰술\n",
      "- 물 500ml\n",
      "- 고춧가루 약간\n",
      "- 후춧가루 약간\n",
      "\n",
      "**조리 방법:**\n",
      "1. 감자는 껍질을 벗기고 반으로 썬 후, 양파는 채 썰고 대파는 어슷하게 썹니다.\n",
      "2. 냄비에 삼겹살을 넣고 중불에서 살짝 볶아 기름을 내어줍니다.\n",
      "3. 삼겹살이 익어갈 때 김치와 양파를 넣고 3분가량 볶습니다.\n",
      "4. 감자와 양송이를 넣고 간장을 추가한 후 물을 부어 끓입니다.\n",
      "5. 중불에서 20분 정도 끓이며 감자가 부드러워질 때까지 더 끓여줍니다.\n",
      "6. 마지막으로 대파를 넣고 고춧가루와 후춧가루로 간을 맞춘 후, 불을 끄고 그릇에 담아냅니다.\n",
      "\n",
      "이 요리들은 모두 손쉽게 만들 수 있으며, 각각의 재료가 조화롭게 어우러져 매 끼니를 특별하게 만들어 줄 것입니다. 즐기세요!\n",
      "\n",
      "------------------------------\n"
     ]
    }
   ],
   "source": [
    "print_message(get_response(thread1))"
   ]
  },
  {
   "cell_type": "code",
   "execution_count": null,
   "metadata": {},
   "outputs": [],
   "source": []
  },
  {
   "cell_type": "code",
   "execution_count": null,
   "metadata": {},
   "outputs": [],
   "source": []
  },
  {
   "cell_type": "code",
   "execution_count": null,
   "metadata": {},
   "outputs": [],
   "source": []
  },
  {
   "cell_type": "code",
   "execution_count": null,
   "metadata": {},
   "outputs": [],
   "source": []
  },
  {
   "cell_type": "code",
   "execution_count": null,
   "metadata": {},
   "outputs": [],
   "source": []
  },
  {
   "cell_type": "code",
   "execution_count": null,
   "metadata": {},
   "outputs": [],
   "source": []
  }
 ],
 "metadata": {
  "kernelspec": {
   "display_name": "COOK",
   "language": "python",
   "name": "cook"
  },
  "language_info": {
   "codemirror_mode": {
    "name": "ipython",
    "version": 3
   },
   "file_extension": ".py",
   "mimetype": "text/x-python",
   "name": "python",
   "nbconvert_exporter": "python",
   "pygments_lexer": "ipython3",
   "version": "3.11.5"
  }
 },
 "nbformat": 4,
 "nbformat_minor": 2
}
