{
 "cells": [
  {
   "cell_type": "code",
   "execution_count": 1,
   "metadata": {},
   "outputs": [
    {
     "data": {
      "text/plain": [
       "True"
      ]
     },
     "execution_count": 1,
     "metadata": {},
     "output_type": "execute_result"
    }
   ],
   "source": [
    "from openai import OpenAI\n",
    "from dotenv import load_dotenv\n",
    "import os\n",
    "import json\n",
    "import time\n",
    "\n",
    "load_dotenv()"
   ]
  },
  {
   "cell_type": "markdown",
   "metadata": {},
   "source": [
    "api key 설정, 헬퍼 함수 정의"
   ]
  },
  {
   "cell_type": "code",
   "execution_count": 2,
   "metadata": {},
   "outputs": [],
   "source": [
    "api_key = os.environ.get(\"OpenAI_API_KEY\")\n",
    "\n",
    "def show_json(obj):\n",
    "    display(json.loads(obj.model_dump_json()))"
   ]
  },
  {
   "cell_type": "markdown",
   "metadata": {},
   "source": [
    "Assistant 생성"
   ]
  },
  {
   "cell_type": "code",
   "execution_count": 3,
   "metadata": {},
   "outputs": [
    {
     "data": {
      "text/plain": [
       "{'id': 'asst_7YMsCAsFx2DIqWpVKvP5u9RF',\n",
       " 'created_at': 1732084660,\n",
       " 'description': None,\n",
       " 'instructions': \"\\n        You are a culinary assistant specializing in providing tailored recipes. Based on the given inputs:\\n\\n        Selected ingredients: A list of ingredients chosen by the user.\\n        Preferred cooking style: A brief description of the desired flavor or type of dish (e.g., spicy, sweet, or savory).\\n\\n        Your task is to generate three creative and practical recipes using the provided ingredients while considering the user's cooking preferences. Each recipe should include:\\n\\n        - A title describing the dish.\\n        - A brief summary of the dish.\\n        - A list of ingredients (including the selected ones).\\n        - Step-by-step cooking instructions.\\n\\n        If the user does not specify a cooking style, default to a general, versatile approach. Aim to inspire and delight the user with your suggestions.\\n\\n        If the selected ingredients are insufficient for the recipe, suggest additional ingredients and explain why they are necessary.\\n        \\n        Your responses should be in Korean.\\n    \",\n",
       " 'metadata': {},\n",
       " 'model': 'gpt-4o-mini',\n",
       " 'name': 'Recipe Bot',\n",
       " 'object': 'assistant',\n",
       " 'tools': [],\n",
       " 'response_format': 'auto',\n",
       " 'temperature': 1.0,\n",
       " 'tool_resources': {'code_interpreter': None, 'file_search': None},\n",
       " 'top_p': 1.0}"
      ]
     },
     "metadata": {},
     "output_type": "display_data"
    }
   ],
   "source": [
    "client = OpenAI(api_key=api_key)\n",
    "assistant = client.beta.assistants.create(\n",
    "    name=\"Recipe Bot\",\n",
    "    instructions=\"\"\"\n",
    "        You are a culinary assistant specializing in providing tailored recipes. Based on the given inputs:\n",
    "\n",
    "        Selected ingredients: A list of ingredients chosen by the user.\n",
    "        Preferred cooking style: A brief description of the desired flavor or type of dish (e.g., spicy, sweet, or savory).\n",
    "\n",
    "        Your task is to generate three creative and practical recipes using the provided ingredients while considering the user's cooking preferences. Each recipe should include:\n",
    "\n",
    "        - A title describing the dish.\n",
    "        - A brief summary of the dish.\n",
    "        - A list of ingredients (including the selected ones).\n",
    "        - Step-by-step cooking instructions.\n",
    "\n",
    "        If the user does not specify a cooking style, default to a general, versatile approach. Aim to inspire and delight the user with your suggestions.\n",
    "\n",
    "        If the selected ingredients are insufficient for the recipe, suggest additional ingredients and explain why they are necessary.\n",
    "        \n",
    "        Your responses should be in Korean.\n",
    "    \"\"\",\n",
    "    model=\"gpt-4o-mini\"\n",
    ")\n",
    "\n",
    "show_json(assistant)\n",
    "ASSISTANT_ID = assistant.id"
   ]
  },
  {
   "cell_type": "markdown",
   "metadata": {},
   "source": [
    "Thread 생성\n",
    "- 스레드에 메시지 추가\n",
    "- 스레드 실행(run)\n",
    "- 스레드 상태(대기, 작업, 완료 등) 확인\n",
    "- 스레드 최신 메시지 조회"
   ]
  },
  {
   "cell_type": "code",
   "execution_count": 16,
   "metadata": {},
   "outputs": [
    {
     "data": {
      "text/plain": [
       "{'id': 'thread_JqtMfkkRKTpEZKx0ikMZxbH5',\n",
       " 'created_at': 1732014134,\n",
       " 'metadata': {},\n",
       " 'object': 'thread',\n",
       " 'tool_resources': {'code_interpreter': None, 'file_search': None}}"
      ]
     },
     "metadata": {},
     "output_type": "display_data"
    }
   ],
   "source": [
    "def create_thread():\n",
    "    thread = client.beta.threads.create()\n",
    "    return thread\n",
    "\n",
    "thread = create_thread()\n",
    "show_json(thread)\n",
    "THREAD_ID = thread.id"
   ]
  },
  {
   "cell_type": "code",
   "execution_count": 4,
   "metadata": {},
   "outputs": [],
   "source": [
    "def wait_on_run(run, thread_id):\n",
    "    # run이 완료될 때까지 대기\n",
    "    while run.status == \"queued\" or run.status == \"in_progress\":\n",
    "        run = client.beta.threads.runs.retrieve(\n",
    "            thread_id=thread_id,\n",
    "            run_id=run.id\n",
    "        )\n",
    "        time.sleep(0.5)  # 서버 부하를 줄이기 위한 API 요청 사이 대기 시간\n",
    "    return run\n",
    "\n",
    "def submit_message(assistant_id, thread_id, user_input):\n",
    "    ingredients, cooking_style = user_input[0], user_input[1]\n",
    "    \n",
    "    message_content = f\"\"\"\n",
    "    Here are the user's inputs:\n",
    "    - Selected ingredients: {ingredients}\n",
    "    - Preferred cooking style: {cooking_style}\n",
    "    \n",
    "    Please generate three recipes considering the above inputs.\n",
    "    \"\"\"\n",
    "    \n",
    "    client.beta.threads.messages.create(\n",
    "        thread_id=thread_id,\n",
    "        role=\"user\",\n",
    "        content=message_content\n",
    "    )\n",
    "\n",
    "    run = client.beta.threads.runs.create(\n",
    "        thread_id=thread_id,\n",
    "        assistant_id=assistant_id\n",
    "    )\n",
    "    return run\n",
    "\n",
    "def get_response(thread_id):\n",
    "    return client.beta.threads.messages.list(thread_id=thread_id, order=\"asc\")\n",
    "\n",
    "def print_message(response):\n",
    "    for res in response:\n",
    "        print(f\"[{res.role.upper()}]\\n{res.content[0].text.value}\\n\")\n",
    "    print(\"-\" * 50)\n",
    "\n",
    "def ask(assistant_id, thread_id, user_input):\n",
    "    run = submit_message(assistant_id, thread_id, user_input)\n",
    "    run = wait_on_run(run, thread_id)\n",
    "    response_data = get_response(thread_id).data\n",
    "    if response_data:\n",
    "        # -2 : [USER] + [ASSISTANT]\n",
    "        # -1 : [ASSISTANT] only\n",
    "        print_message(response_data[-2:])\n",
    "    else:\n",
    "        print(\"응답이 없습니다.\")\n",
    "    \n",
    "    return run"
   ]
  },
  {
   "cell_type": "code",
   "execution_count": 5,
   "metadata": {},
   "outputs": [],
   "source": [
    "ingredients = \"양파, 감자, 파스타면, 양송이, 간장, 김치, 대파, 삼겹살, 간장, 토마토, 마늘, 굴소스, 두부, 계란\"\n",
    "cooking_style = \"약간 맵게 해줘\""
   ]
  },
  {
   "cell_type": "code",
   "execution_count": null,
   "metadata": {},
   "outputs": [
    {
     "name": "stdout",
     "output_type": "stream",
     "text": [
      "[ASSISTANT]\n",
      "사용자가 선택한 재료와 약간 매운 요리 스타일을 바탕으로 세 가지 레시피를 준비했습니다. 맛있게 만들어 보세요!\n",
      "\n",
      "### 레시피 1: 매콤한 삼겹살 야채 볶음\n",
      "\n",
      "**요약:** 삼겹살과 다양한 야채를 매콤하게 볶아 밥과 함께 즐기는 요리입니다.\n",
      "\n",
      "**재료:**\n",
      "- 삼겹살 300g\n",
      "- 양파 1개\n",
      "- 감자 1개\n",
      "- 양송이 150g\n",
      "- 대파 1대\n",
      "- 간장 2큰술\n",
      "- 굴소스 1큰술\n",
      "- 고춧가루 1큰술 (추가)\n",
      "- 마늘 2쪽 (다진 것)\n",
      "- 올리브유 2큰술\n",
      "- 소금, 후추 약간\n",
      "\n",
      "**조리 과정:**\n",
      "1. 삼겹살은 한 입 크기로 썰고, 양파와 감자는 채썰고, 양송이는 슬라이스 합니다. 대파는 어슷썰기 합니다.\n",
      "2. 팬에 올리브유를 두르고 삼겹살을 넣어 노릇하게 볶습니다.\n",
      "3. 삼겹살이 익으면 다진 마늘과 양파를 넣고 볶다가, 감자와 양송이를 추가합니다.\n",
      "4. 간장과 굴소스를 넣고 고춧가루를 넣어 잘 섞은 후, 재료들이 골고루 익도록 볶습니다.\n",
      "5. 마지막으로 대파를 넣고 소금과 후추로 간을 맞추고 잘 섞어줍니다.\n",
      "6. 식사로 제공합니다.\n",
      "\n",
      "---\n",
      "\n",
      "### 레시피 2: 매운 김치 두부 스튜\n",
      "\n",
      "**요약:** 김치와 두부를 이용해 매콤하고 깊은 맛의 스튜를 만드는 조리법입니다.\n",
      "\n",
      "**재료:**\n",
      "- 두부 1모\n",
      "- 김치 1컵\n",
      "- 양파 1개\n",
      "- 대파 1대\n",
      "- 마늘 2쪽 (다진 것)\n",
      "- 간장 2큰술\n",
      "- 고추장 1큰술\n",
      "- 물 2컵\n",
      "- 후춧가루 약간\n",
      "\n",
      "**조리 과정:**\n",
      "1. 두부는 먹기 좋은 크기로 자르고, 양파는 채썰고 대파는 어슷썰어 줍니다.\n",
      "2. 냄비에 다진 마늘을 넣고 향이 나게 볶은 후, 양파와 김치를 추가합니다.\n",
      "3. 김치가 익을 때까지 볶은 후, 물을 부어 끓입니다.\n",
      "4. 끓기 시작하면 두부를 넣고 간장, 고추장을 추가한 후 중약불로 15-20분 끓입니다.\n",
      "5. 대파를 넣고 후춧가루로 간을 맞춘 후, 그릇에 담아 제공합니다.\n",
      "\n",
      "---\n",
      "\n",
      "### 레시피 3: 매콤한 토마토 파스타\n",
      "\n",
      "**요약:** 신선한 토마토와 양송이를 매콤하게 조리한 파스타 요리입니다.\n",
      "\n",
      "**재료:**\n",
      "- 파스타면 200g\n",
      "- 토마토 2개\n",
      "- 양송이 150g\n",
      "- 양파 1개\n",
      "- 마늘 2쪽 (다진 것)\n",
      "- 간장 1큰술\n",
      "- 고춧가루 1큰술 (추가)\n",
      "- 올리브유 2큰술\n",
      "- 소금, 후추 약간\n",
      "\n",
      "**조리 과정:**\n",
      "1. 파스타면을 끓는 물에 소금을 넣고 삶아 알단테 상태로 만듭니다.\n",
      "2. 토마토는 깍둑썰고, 양파와 양송이는 채썰어 줍니다.\n",
      "3. 팬에 올리브유를 두르고 다진 마늘을 향이 날 때까지 볶습니다.\n",
      "4. 양파와 양송이를 추가하고 볶다가, 토마토를 넣고 잘 섞습니다.\n",
      "5. 간장과 고춧가루를 넣고 잘 저어줍니다. 필요하다면 물을 조금 넣어가며 소스의 농도를 조절합니다.\n",
      "6. 삶은 파스타를 넣고 전체를 잘 섞어 소금과 후추로 간을 맞춘 후, 접시에 담아 제공합니다.\n",
      "\n",
      "이 레시피들이 사용자의 요리 시간에 도움이 되기를 바랍니다! 매콤하고 맛있는 식사가 되기를 기원합니다.\n",
      "\n",
      "--------------------------------------------------\n"
     ]
    }
   ],
   "source": [
    "# user_input = [ingredients, cooking_style]\n",
    "# run = ask(ASSISTANT_ID, THREAD_ID, user_input)"
   ]
  },
  {
   "cell_type": "code",
   "execution_count": null,
   "metadata": {},
   "outputs": [],
   "source": []
  },
  {
   "cell_type": "markdown",
   "metadata": {},
   "source": [
    "file_search 기능 추가"
   ]
  },
  {
   "cell_type": "code",
   "execution_count": 6,
   "metadata": {},
   "outputs": [],
   "source": [
    "file = client.files.create(\n",
    "    file=open(\"../crawling/recipes.json\", \"rb\"),\n",
    "    purpose=\"assistants\"\n",
    ")"
   ]
  },
  {
   "cell_type": "code",
   "execution_count": 7,
   "metadata": {},
   "outputs": [
    {
     "data": {
      "text/plain": [
       "{'id': 'asst_YCWA6UtK36YnWaSAZlV2jMH7',\n",
       " 'created_at': 1732084722,\n",
       " 'description': None,\n",
       " 'instructions': \"\\n        You are a culinary assistant specializing in providing tailored recipes. Based on the given inputs:\\n\\n        Selected ingredients: A list of ingredients chosen by the user.\\n        Preferred cooking style: A brief description of the desired flavor or type of dish (e.g., spicy, sweet, or savory).\\n\\n        Your task is to generate three creative and practical recipes using the provided ingredients while considering the user's cooking preferences. Each recipe should include:\\n\\n        - A title describing the dish.\\n        - A brief summary of the dish.\\n        - A list of ingredients (including the selected ones).\\n        - Step-by-step cooking instructions.\\n\\n        If the user does not specify a cooking style, default to a general, versatile approach. Aim to inspire and delight the user with your suggestions.\\n\\n        In addition to your culinary expertise, you can retrieve information from the uploaded documents to enhance your suggestions or answer user queries. Use this knowledge to provide more accurate, detailed, and contextually relevant recipes or suggestions.\\n\\n        If the selected ingredients are insufficient for the recipe, suggest additional ingredients and explain why they are necessary.\\n\\n        Your responses should be in Korean.\\n    \",\n",
       " 'metadata': {},\n",
       " 'model': 'gpt-4o-mini',\n",
       " 'name': 'Recipe Bot',\n",
       " 'object': 'assistant',\n",
       " 'tools': [{'type': 'file_search',\n",
       "   'file_search': {'max_num_results': None,\n",
       "    'ranking_options': {'score_threshold': 0.0,\n",
       "     'ranker': 'default_2024_08_21'}}}],\n",
       " 'response_format': 'auto',\n",
       " 'temperature': 1.0,\n",
       " 'tool_resources': {'code_interpreter': None,\n",
       "  'file_search': {'vector_store_ids': []}},\n",
       " 'top_p': 1.0}"
      ]
     },
     "metadata": {},
     "output_type": "display_data"
    }
   ],
   "source": [
    "assistant = client.beta.assistants.create(\n",
    "    name=\"Recipe Bot\",\n",
    "    model=\"gpt-4o-mini\",\n",
    "    tools=[{\"type\": \"file_search\"}],\n",
    "    instructions=\"\"\"\n",
    "        You are a culinary assistant specializing in providing tailored recipes. Based on the given inputs:\n",
    "\n",
    "        Selected ingredients: A list of ingredients chosen by the user.\n",
    "        Preferred cooking style: A brief description of the desired flavor or type of dish (e.g., spicy, sweet, or savory).\n",
    "\n",
    "        Your task is to generate three creative and practical recipes using the provided ingredients while considering the user's cooking preferences. Each recipe should include:\n",
    "\n",
    "        - A title describing the dish.\n",
    "        - A brief summary of the dish.\n",
    "        - A list of ingredients (including the selected ones).\n",
    "        - Step-by-step cooking instructions.\n",
    "\n",
    "        If the user does not specify a cooking style, default to a general, versatile approach. Aim to inspire and delight the user with your suggestions.\n",
    "\n",
    "        In addition to your culinary expertise, you can retrieve information from the uploaded documents to enhance your suggestions or answer user queries. Use this knowledge to provide more accurate, detailed, and contextually relevant recipes or suggestions.\n",
    "\n",
    "        If the selected ingredients are insufficient for the recipe, suggest additional ingredients and explain why they are necessary.\n",
    "\n",
    "        Your responses should be in Korean.\n",
    "    \"\"\"\n",
    ")\n",
    "\n",
    "show_json(assistant)"
   ]
  },
  {
   "cell_type": "code",
   "execution_count": null,
   "metadata": {},
   "outputs": [
    {
     "name": "stdout",
     "output_type": "stream",
     "text": [
      "completed\n",
      "FileCounts(cancelled=0, completed=1, failed=0, in_progress=0, total=1)\n"
     ]
    },
    {
     "data": {
      "text/plain": [
       "{'id': 'vs_09R7gPlbIakqBJDUcHTRIIUI',\n",
       " 'created_at': 1732019205,\n",
       " 'file_counts': {'cancelled': 0,\n",
       "  'completed': 0,\n",
       "  'failed': 0,\n",
       "  'in_progress': 0,\n",
       "  'total': 0},\n",
       " 'last_active_at': 1732019205,\n",
       " 'metadata': {},\n",
       " 'name': 'RECIPE',\n",
       " 'object': 'vector_store',\n",
       " 'status': 'completed',\n",
       " 'usage_bytes': 0,\n",
       " 'expires_after': None,\n",
       " 'expires_at': None}"
      ]
     },
     "metadata": {},
     "output_type": "display_data"
    }
   ],
   "source": [
    "# Create a vector store called \"RECIPE\"\n",
    "vector_store = client.beta.vector_stores.create(name=\"RECIPE\")\n",
    " \n",
    "# Ready the files for upload to OpenAI\n",
    "file_paths = [\"../crawling/recipes.json\"]\n",
    "file_streams = [open(path, \"rb\") for path in file_paths]\n",
    " \n",
    "# Use the upload and poll SDK helper to upload the files, add them to the vector store,\n",
    "# and poll the status of the file batch for completion.\n",
    "file_batch = client.beta.vector_stores.file_batches.upload_and_poll(\n",
    "    vector_store_id=vector_store.id, files=file_streams\n",
    ")\n",
    "\n",
    "# You can print the status and the file counts of the batch to see the result of this operation.\n",
    "print(file_batch.status)\n",
    "print(file_batch.file_counts)\n",
    "\n",
    "show_json(vector_store)"
   ]
  },
  {
   "cell_type": "code",
   "execution_count": 8,
   "metadata": {},
   "outputs": [
    {
     "data": {
      "text/plain": [
       "{'id': 'asst_mNWj3TCy25u0HK4df30qAPhN',\n",
       " 'created_at': 1732019198,\n",
       " 'description': None,\n",
       " 'instructions': \"\\n        You are a culinary assistant specializing in providing tailored recipes. Based on the given inputs:\\n\\n        Selected ingredients: A list of ingredients chosen by the user.\\n        Preferred cooking style: A brief description of the desired flavor or type of dish (e.g., spicy, sweet, or savory).\\n\\n        Your task is to generate three creative and practical recipes using the provided ingredients while considering the user's cooking preferences. Each recipe should include:\\n\\n        - A title describing the dish.\\n        - A brief summary of the dish.\\n        - A list of ingredients (including the selected ones).\\n        - Step-by-step cooking instructions.\\n\\n        If the user does not specify a cooking style, default to a general, versatile approach. Aim to inspire and delight the user with your suggestions.\\n\\n        In addition to your culinary expertise, you can retrieve information from the uploaded documents to enhance your suggestions or answer user queries. Use this knowledge to provide more accurate, detailed, and contextually relevant recipes or suggestions.\\n\\n        If the selected ingredients are insufficient for the recipe, suggest additional ingredients and explain why they are necessary.\\n\\n        Your responses should be in Korean.\\n    \",\n",
       " 'metadata': {},\n",
       " 'model': 'gpt-4o-mini',\n",
       " 'name': 'Recipe Bot',\n",
       " 'object': 'assistant',\n",
       " 'tools': [{'type': 'file_search',\n",
       "   'file_search': {'max_num_results': None,\n",
       "    'ranking_options': {'score_threshold': 0.0,\n",
       "     'ranker': 'default_2024_08_21'}}}],\n",
       " 'response_format': 'auto',\n",
       " 'temperature': 1.0,\n",
       " 'tool_resources': {'code_interpreter': None,\n",
       "  'file_search': {'vector_store_ids': ['vs_09R7gPlbIakqBJDUcHTRIIUI']}},\n",
       " 'top_p': 1.0}"
      ]
     },
     "metadata": {},
     "output_type": "display_data"
    }
   ],
   "source": [
    "assistant = client.beta.assistants.update(\n",
    "    assistant_id=assistant.id,\n",
    "    tool_resources={\"file_search\": {\"vector_store_ids\": [vector_store.id]}}\n",
    ")\n",
    "show_json(assistant)"
   ]
  },
  {
   "cell_type": "code",
   "execution_count": 20,
   "metadata": {},
   "outputs": [
    {
     "name": "stdout",
     "output_type": "stream",
     "text": [
      "[USER]\n",
      "\n",
      "    Here are the user's inputs:\n",
      "    - Selected ingredients: 양파, 감자, 파스타면, 양송이, 간장, 김치, 대파, 삼겹살, 간장, 토마토, 마늘, 굴소스, 두부, 계란\n",
      "    - Preferred cooking style: 약간 맵게 해줘\n",
      "    \n",
      "    Please generate three recipes considering the above inputs.\n",
      "    \n",
      "\n",
      "[ASSISTANT]\n",
      "아래는 사용자께서 선택한 재료를 활용하여 약간 매운 요리를 고려한 세 가지 레시피입니다. 각 레시피는 요리의 요약, 재료 목록, 조리 방법을 포함하고 있습니다.\n",
      "\n",
      "### 1. 매운 삼겹살 김치 볶음\n",
      "\n",
      "**요약:** 삼겹살과 김치를 함께 볶아 매콤하고 풍미가 가득한 요리입니다. 밥과 함께 먹기 좋은 반찬입니다.\n",
      "\n",
      "#### 재료:\n",
      "- 삼겹살 200g\n",
      "- 김치 150g (잘게 썬 것)\n",
      "- 양파 1개 (슬라이스)\n",
      "- 대파 1대 (송송 썬 것)\n",
      "- 마늘 2쪽 (다진 것)\n",
      "- 간장 1큰술\n",
      "- 굴소스 1큰술\n",
      "- 고춧가루 1작은술 (매운맛 조절용)\n",
      "- 식용유 적당량\n",
      "\n",
      "#### 조리 방법:\n",
      "1. 팬에 식용유를 두르고 중불에서 삼겹살을 볶아 기름이 나올 때까지 익힙니다.\n",
      "2. 삼겹살이 익으면 양파, 마늘, 대파를 추가하고 볶아줍니다.\n",
      "3. 김치를 넣고 5분 정도 더 볶습니다.\n",
      "4. 간장, 굴소스, 고춧가루를 넣고 잘 섞어 볶습니다.\n",
      "5. 맛을 보고 간을 조절한 후, 그릇에 담아 뜨겁게 제공합니다.\n",
      "\n",
      "---\n",
      "\n",
      "### 2. 매운 두부 감자 파스타\n",
      "\n",
      "**요약:** 부드러운 두부와 감자, 그리고 파스타가 어우러져 매콤한 소스로 맛을 낸 이색적인 요리입니다.\n",
      "\n",
      "#### 재료:\n",
      "- 파스타면 200g\n",
      "- 두부 200g (깍둑 썰기)\n",
      "- 감자 1개 (작게 썬 것)\n",
      "- 양송이 100g (슬라이스)\n",
      "- 마늘 2쪽 (다진 것)\n",
      "- 간장 1큰술\n",
      "- 굴소스 1큰술\n",
      "- 고춧가루 1작은술\n",
      "- 대파 1대 (송송 썬 것)\n",
      "- 식용유 적당량\n",
      "- 소금, 후추 적당량\n",
      "\n",
      "#### 조리 방법:\n",
      "1. 큰 냄비에 물을 끓이고 소금을 넣고 파스타면을 알단테로 삶아줍니다. (약 8-10분)\n",
      "2. 팬에 식용유를 두르고 감자를 먼저 볶아 익도록 합니다.\n",
      "3. 그 다음, 두부와 양송이를 추가하고 볶습니다.\n",
      "4. 마늘을 추가한 후, 간장, 굴소스, 고춧가루를 넣어서 잘 섞어줍니다.\n",
      "5. 삶아놓은 파스타를 팬에 넣고 모든 재료와 잘 버무린 후, 마지막으로 대파를 넣어 한 번 더 섞습니다.\n",
      "6. 맛을 보고 소금과 후추로 간을 맞춘 후, 그릇에 담아 제공합니다.\n",
      "\n",
      "---\n",
      "\n",
      "### 3. 매운 토마토 계란 국\n",
      "\n",
      "**요약:** 신선한 토마토와 계란을 이용한 매운 국물 요리로, 영양가가 풍부하며 든든한 한 끼가 됩니다.\n",
      "\n",
      "#### 재료:\n",
      "- 토마토 2개 (다진 것)\n",
      "- 계란 2개\n",
      "- 대파 1대 (송송 썬 것)\n",
      "- 마늘 2쪽 (다진 것)\n",
      "- 간장 1큰술\n",
      "- 고춧가루 1큰술 (매운 맛 조절용)\n",
      "- 김치 100g (잘게 썬 것)\n",
      "- 물 4컵\n",
      "- 식용유 적당량\n",
      "- 소금, 후추 적당량\n",
      "\n",
      "#### 조리 방법:\n",
      "1. 냄비에 식용유를 두르고 마늘을 볶아 향을 내도록 합니다.\n",
      "2. 다진 토마토와 김치를 넣고 끓입니다.\n",
      "3. 물을 붓고 간장과 고춧가루를 추가하여 끓입니다.\n",
      "4. 끓기 시작하면 계란을 하나씩 깨뜨려 넣고, 중불에서 익을 때까지 끓입니다.\n",
      "5. 마지막으로 대파를 넣고, 소금과 후추로 간을 맞춘 후 그릇에 담아 제공합니다.\n",
      "\n",
      "이 세 가지 요리는 모두 매콤한 맛을 잘 살릴 수 있는 조리법으로, 서로 다른 재료 조합을 통해 다양한 맛을 즐길 수 있습니다. 즐겨 보세요!\n",
      "\n",
      "--------------------------------------------------\n"
     ]
    }
   ],
   "source": [
    "user_input = [ingredients, cooking_style]\n",
    "run = ask(assistant.id, thread.id, user_input)"
   ]
  },
  {
   "cell_type": "code",
   "execution_count": null,
   "metadata": {},
   "outputs": [],
   "source": []
  },
  {
   "cell_type": "code",
   "execution_count": null,
   "metadata": {},
   "outputs": [],
   "source": []
  },
  {
   "cell_type": "code",
   "execution_count": null,
   "metadata": {},
   "outputs": [],
   "source": []
  },
  {
   "cell_type": "code",
   "execution_count": null,
   "metadata": {},
   "outputs": [],
   "source": []
  }
 ],
 "metadata": {
  "kernelspec": {
   "display_name": "COOK",
   "language": "python",
   "name": "cook"
  },
  "language_info": {
   "codemirror_mode": {
    "name": "ipython",
    "version": 3
   },
   "file_extension": ".py",
   "mimetype": "text/x-python",
   "name": "python",
   "nbconvert_exporter": "python",
   "pygments_lexer": "ipython3",
   "version": "3.11.5"
  }
 },
 "nbformat": 4,
 "nbformat_minor": 2
}
