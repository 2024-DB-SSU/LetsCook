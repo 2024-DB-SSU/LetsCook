{
 "cells": [
  {
   "cell_type": "code",
   "execution_count": 4,
   "metadata": {},
   "outputs": [
    {
     "data": {
      "text/plain": [
       "True"
      ]
     },
     "execution_count": 4,
     "metadata": {},
     "output_type": "execute_result"
    }
   ],
   "source": [
    "from openai import OpenAI\n",
    "from dotenv import load_dotenv\n",
    "import os\n",
    "import json\n",
    "import time\n",
    "\n",
    "\n",
    "load_dotenv()"
   ]
  },
  {
   "cell_type": "markdown",
   "metadata": {},
   "source": [
    "api key 설정, 헬퍼 함수 정의"
   ]
  },
  {
   "cell_type": "code",
   "execution_count": 5,
   "metadata": {},
   "outputs": [],
   "source": [
    "api_key = os.environ.get(\"OpenAI_API_KEY\")\n",
    "\n",
    "def show_json(obj):\n",
    "    display(json.loads(obj.model_dump_json()))"
   ]
  },
  {
   "cell_type": "markdown",
   "metadata": {},
   "source": [
    "Assistant 생성"
   ]
  },
  {
   "cell_type": "code",
   "execution_count": null,
   "metadata": {},
   "outputs": [
    {
     "data": {
      "text/plain": [
       "{'id': 'asst_ICzPekzwrJOLSvZ7uJO5nKEi',\n",
       " 'created_at': 1731983405,\n",
       " 'description': None,\n",
       " 'instructions': \"\\n        You are a culinary assistant specializing in providing tailored recipes. Based on the given inputs:\\n\\n        Selected ingredients: A list of ingredients chosen by the user.\\n        Preferred cooking style: A brief description of the desired flavor or type of dish (e.g., spicy, sweet, or savory).\\n\\n        Your task is to generate three creative and practical recipes using the provided ingredients while considering the user's cooking preferences. Each recipe should include:\\n\\n        - A title describing the dish.\\n        - A brief summary of the dish.\\n        - A list of ingredients (including the selected ones).\\n        - Step-by-step cooking instructions.\\n\\n        If the user does not specify a cooking style, default to a general, versatile approach. Aim to inspire and delight the user with your suggestions.\\n\\n        If the selected ingredients are insufficient for the recipe, suggest additional ingredients and explain why they are necessary.\\n        \\n        Your responses should be in Korean.\\n    \",\n",
       " 'metadata': {},\n",
       " 'model': 'gpt-4o-mini',\n",
       " 'name': 'Recipe Bot',\n",
       " 'object': 'assistant',\n",
       " 'tools': [],\n",
       " 'response_format': 'auto',\n",
       " 'temperature': 1.0,\n",
       " 'tool_resources': {'code_interpreter': None, 'file_search': None},\n",
       " 'top_p': 1.0}"
      ]
     },
     "metadata": {},
     "output_type": "display_data"
    }
   ],
   "source": [
    "client = OpenAI(api_key=api_key)\n",
    "assistant = client.beta.assistants.create(\n",
    "    name=\"Recipe Bot\",\n",
    "    instructions=\"\"\"\n",
    "        You are a culinary assistant specializing in providing tailored recipes. Based on the given inputs:\n",
    "\n",
    "        Selected ingredients: A list of ingredients chosen by the user.\n",
    "        Preferred cooking style: A brief description of the desired flavor or type of dish (e.g., spicy, sweet, or savory).\n",
    "\n",
    "        Your task is to generate three creative and practical recipes using the provided ingredients while considering the user's cooking preferences. Each recipe should include:\n",
    "\n",
    "        - A title describing the dish.\n",
    "        - A brief summary of the dish.\n",
    "        - A list of ingredients (including the selected ones).\n",
    "        - Step-by-step cooking instructions.\n",
    "\n",
    "        If the user does not specify a cooking style, default to a general, versatile approach. Aim to inspire and delight the user with your suggestions.\n",
    "\n",
    "        If the selected ingredients are insufficient for the recipe, suggest additional ingredients and explain why they are necessary.\n",
    "        \n",
    "        Your responses should be in Korean.\n",
    "    \"\"\",\n",
    "    model=\"gpt-4o-mini\"\n",
    ")\n",
    "\n",
    "show_json(assistant)\n",
    "ASSISTANT_ID = assistant.id"
   ]
  },
  {
   "cell_type": "markdown",
   "metadata": {},
   "source": [
    "Thread 생성\n",
    "- 스레드에 메시지 추가\n",
    "- 스레드 실행(run)\n",
    "- 스레드 상태(대기, 작업, 완료 등) 확인\n",
    "- 스레드 최신 메시지 조회"
   ]
  },
  {
   "cell_type": "code",
   "execution_count": 7,
   "metadata": {},
   "outputs": [
    {
     "data": {
      "text/plain": [
       "{'id': 'thread_rxynZP6z5oUekIyFFFWHVFij',\n",
       " 'created_at': 1731983405,\n",
       " 'metadata': {},\n",
       " 'object': 'thread',\n",
       " 'tool_resources': {'code_interpreter': None, 'file_search': None}}"
      ]
     },
     "metadata": {},
     "output_type": "display_data"
    }
   ],
   "source": [
    "def create_thread():\n",
    "    thread = client.beta.threads.create()\n",
    "    return thread\n",
    "\n",
    "thread = create_thread()\n",
    "show_json(thread)\n",
    "THREAD_ID = thread.id"
   ]
  },
  {
   "cell_type": "code",
   "execution_count": null,
   "metadata": {},
   "outputs": [],
   "source": [
    "def wait_on_run(run, thread_id):\n",
    "    # run이 완료될 때까지 대기\n",
    "    while run.status == \"queued\" or run.status == \"in_progress\":\n",
    "        run = client.beta.threads.runs.retrieve(\n",
    "            thread_id=thread_id,\n",
    "            run_id=run.id\n",
    "        )\n",
    "        time.sleep(0.5)  # 서버 부하를 줄이기 위한 API 요청 사이 대기 시간\n",
    "    return run\n",
    "\n",
    "def submit_message(assistant_id, thread_id, user_input):\n",
    "    ingredients, cooking_style = user_input[0], user_input[1]\n",
    "    \n",
    "    message_content = f\"\"\"\n",
    "    Here are the user's inputs:\n",
    "    - Selected ingredients: {ingredients}\n",
    "    - Preferred cooking style: {cooking_style}\n",
    "    \n",
    "    Please generate three recipes considering the above inputs.\n",
    "    \"\"\"\n",
    "    \n",
    "    client.beta.threads.messages.create(\n",
    "        thread_id=thread_id,\n",
    "        role=\"user\",\n",
    "        content=message_content\n",
    "    )\n",
    "\n",
    "    run = client.beta.threads.runs.create(\n",
    "        thread_id=thread_id,\n",
    "        assistant_id=assistant_id\n",
    "    )\n",
    "    return run\n",
    "\n",
    "def get_response(thread_id):\n",
    "    return client.beta.threads.messages.list(thread_id=thread_id, order=\"asc\")\n",
    "\n",
    "def print_message(response):\n",
    "    for res in response:\n",
    "        print(f\"[{res.role.upper()}]\\n{res.content[0].text.value}\\n\")\n",
    "    print(\"-\" * 50)\n",
    "\n",
    "def ask(assistant_id, thread_id, user_input):\n",
    "    run = submit_message(assistant_id, thread_id, user_input)\n",
    "    run = wait_on_run(run, thread_id)\n",
    "    response_data = get_response(thread_id).data\n",
    "    if response_data:\n",
    "        print_message(response_data[-1])  # -2 : [USER]까지\n",
    "    else:\n",
    "        print(\"응답이 없습니다.\")\n",
    "    \n",
    "    return run"
   ]
  },
  {
   "cell_type": "code",
   "execution_count": 11,
   "metadata": {},
   "outputs": [
    {
     "name": "stdout",
     "output_type": "stream",
     "text": [
      "[USER]\n",
      "\n",
      "    Here are the user's inputs:\n",
      "    - Selected ingredients: 양파, 감자, 파스타면, 양송이, 간장, 김치, 대파, 삼겹살, 간장\n",
      "    - Preferred cooking style: 약간 맵게 해줘\n",
      "    \n",
      "    Please generate three recipes considering the above inputs.\n",
      "    \n",
      "\n",
      "[ASSISTANT]\n",
      "### 레시피 1: 매운 김치 삼겹살 파스타\n",
      "\n",
      "**요약:** 김치의 매콤하고 감칠맛 나은 풍미와 삼겹살의 고소한 맛이 어우러진 창의적인 파스타 요리입니다. 이국적인 맛을 좋아하는 분께 제격입니다.\n",
      "\n",
      "**재료:**\n",
      "- 파스타 면 200g\n",
      "- 삼겹살 150g (한 입 크기로 자른다)\n",
      "- 양파 1개 (슬라이스)\n",
      "- 감자 1개 (작게 큐브)\n",
      "- 양송이 100g (슬라이스)\n",
      "- 대파 1대 (송송 썰기)\n",
      "- 김치 1컵\n",
      "- 간장 2큰술\n",
      "- 고춧가루 1큰술 (매운 맛을 위해)\n",
      "- 식용유\n",
      "\n",
      "**조리 방법:**\n",
      "1. 큰 냄비에 물을 끓이고 소금을 넣은 후, 파스타 면을 패키지 지시에 따라 삶습니다. 삶은 면은 체에 걸러 물기를 빼고 둡니다.\n",
      "2. 팬에 식용유를 두르고 중불에서 삼겹살을 바삭하게 익힙니다.\n",
      "3. 삼겹살이 익어가면 양파와 감자를 추가하고 함께 볶아 부드러워질 때까지 조리합니다.\n",
      "4. 양송이를 넣고 조금 더 볶은 후, 김치와 간장을 추가하고 잘 섞습니다.\n",
      "5. 고춧가루를 넣고 전체 재료가 잘 어우러지도록 볶아줍니다.\n",
      "6. 삶은 파스타 면을 넣고 모든 재료가 잘 혼합될 때까지 볶은 후, 접시에 담아 대파를 뿌리고 즐기세요!\n",
      "\n",
      "---\n",
      "\n",
      "### 레시피 2: 매운 양파와 감자 볶음\n",
      "\n",
      "**요약:** 양파와 감자의 부드러움, 그리고 김치의 매콤함이 조화롭게 어우러진 한국식 볶음 요리입니다. 간단하게 밥과 함께 먹기 좋은 반찬입니다.\n",
      "\n",
      "**재료:**\n",
      "- 감자 2개 (작은 큐브)\n",
      "- 양파 1개 (슬라이스)\n",
      "- 대파 1대 (송송 썰기)\n",
      "- 김치 1컵\n",
      "- 간장 1큰술\n",
      "- 고춧가루 1큰술 (매운 맛을 위해)\n",
      "- 식용유\n",
      "\n",
      "**조리 방법:**\n",
      "1. 팬에 식용유를 두르고 중불에서 감자를 넣고 약 5분간 볶습니다.\n",
      "2. 감자가 어느 정도 익으면 양파를 추가하고 계속 볶아줍니다.\n",
      "3. 양파가 투명해지면 김치를 넣고 간장과 고춧가루를 추가하여 잘 섞습니다.\n",
      "4. 모든 재료가 잘 어우러지도록 볶은 후, 대파를 넣고 한 번 더 볶습니다.\n",
      "5. 간을 보고 필요시 간장 또는 고춧가루를 추가하여 조절한 후, 접시에 담아 맛있게 드세요.\n",
      "\n",
      "---\n",
      "\n",
      "### 레시피 3: 매운 삼겹살 김치 찌개\n",
      "\n",
      "**요약:** 고소한 삼겹살과 신선한 김치가 조화를 이루는 간단하면서도 맛있는 찌개입니다. 밥과 함께 푸짐하게 즐길 수 있습니다.\n",
      "\n",
      "**재료:**\n",
      "- 삼겹살 200g (한 입 크기로 자른다)\n",
      "- 양파 1개 (슬라이스)\n",
      "- 감자 1개 (큐브)\n",
      "- 양송이 100g (슬라이스)\n",
      "- 대파 1대 (송송 썰기)\n",
      "- 김치 2컵\n",
      "- 간장 2큰술\n",
      "- 고춧가루 2큰술 (매운 맛을 위해)\n",
      "- 물 3컵\n",
      "- 후춧가루 약간\n",
      "\n",
      "**조리 방법:**\n",
      "1. 큰 냄비에 삼겹살을 넣고 중불에서 볶아 기름이 나올 때까지 익힙니다.\n",
      "2. 삼겹살이 바삭하게 익으면 양파, 감자, 양송이를 추가하고 볶아줍니다.\n",
      "3. 김치를 넣고 간장, 고춧가루를 추가하여 모든 재료가 잘 섞이도록 볶습니다.\n",
      "4. 물을 부어 끓기 시작하면, 중불에서 약 15분간 끓여줍니다.\n",
      "5. 후춧가루를 넣고 마지막으로 대파를 넣고 2분 더 끓입니다.\n",
      "6. 그릇에 담아 뜨겁게 서빙하며, 맛있게 드세요!\n",
      "\n",
      "이 세 가지 레시피는 약간 매운 맛을 내고, 여러분의 재료를 최대한 활용하여 만들었습니다. 각 요리를 즐기면서 맛있는 저녁 시간 보내세요!\n",
      "\n",
      "--------------------------------------------------\n"
     ]
    }
   ],
   "source": [
    "user_input = [\"양파, 감자, 파스타면, 양송이, 간장, 김치, 대파, 삼겹살, 간장\", \"약간 맵게 해줘\"]\n",
    "run = ask(ASSISTANT_ID, THREAD_ID, user_input)"
   ]
  },
  {
   "cell_type": "code",
   "execution_count": null,
   "metadata": {},
   "outputs": [],
   "source": []
  },
  {
   "cell_type": "code",
   "execution_count": null,
   "metadata": {},
   "outputs": [],
   "source": []
  },
  {
   "cell_type": "code",
   "execution_count": null,
   "metadata": {},
   "outputs": [],
   "source": []
  },
  {
   "cell_type": "code",
   "execution_count": null,
   "metadata": {},
   "outputs": [],
   "source": []
  },
  {
   "cell_type": "code",
   "execution_count": null,
   "metadata": {},
   "outputs": [],
   "source": []
  },
  {
   "cell_type": "code",
   "execution_count": null,
   "metadata": {},
   "outputs": [],
   "source": []
  },
  {
   "cell_type": "code",
   "execution_count": null,
   "metadata": {},
   "outputs": [],
   "source": []
  }
 ],
 "metadata": {
  "kernelspec": {
   "display_name": "COOK",
   "language": "python",
   "name": "cook"
  },
  "language_info": {
   "codemirror_mode": {
    "name": "ipython",
    "version": 3
   },
   "file_extension": ".py",
   "mimetype": "text/x-python",
   "name": "python",
   "nbconvert_exporter": "python",
   "pygments_lexer": "ipython3",
   "version": "3.11.5"
  }
 },
 "nbformat": 4,
 "nbformat_minor": 2
}
